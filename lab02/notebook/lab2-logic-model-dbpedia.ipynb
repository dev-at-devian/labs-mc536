{
  "nbformat": 4,
  "nbformat_minor": 5,
  "metadata": {
    "kernelspec": {
      "display_name": "Python 3",
      "language": "python",
      "name": "python3"
    },
    "language_info": {
      "codemirror_mode": {
        "name": "ipython",
        "version": 3
      },
      "file_extension": ".py",
      "mimetype": "text/x-python",
      "name": "python",
      "nbconvert_exporter": "python",
      "pygments_lexer": "ipython3",
      "version": "3.8.10"
    },
    "colab": {
      "name": "lab2-logic-model-dbpedia.ipynb",
      "provenance": []
    }
  },
  "cells": [
    {
      "cell_type": "markdown",
      "metadata": {
        "id": "monetary-oakland"
      },
      "source": [
        "# Laboratório 2"
      ],
      "id": "monetary-oakland"
    },
    {
      "cell_type": "markdown",
      "metadata": {
        "id": "bridal-netscape"
      },
      "source": [
        "## Tarefa 1\n",
        "\n",
        "### Carregue o nó de Tenda dos Milagres (da versão em inglês Tent of Miracles) em Python e mostre o conteúdo JSON."
      ],
      "id": "bridal-netscape"
    },
    {
      "cell_type": "code",
      "metadata": {
        "colab": {
          "base_uri": "https://localhost:8080/"
        },
        "id": "exciting-cement",
        "outputId": "2ea276db-aa97-4579-a345-dcee40387dd1"
      },
      "source": [
        "import io\n",
        "import requests\n",
        "import json\n",
        "\n",
        "url_tom = \"https://dbpedia.org/data/Tent_of_Miracles_(novel).jsod\"\n",
        "\n",
        "data_tom = requests.get(url_tom)\n",
        "json_tom = data_tom.json()\n",
        "\n",
        "print(json.dumps(json_tom, indent=3))"
      ],
      "id": "exciting-cement",
      "execution_count": 2,
      "outputs": [
        {
          "output_type": "stream",
          "text": [
            "{\n",
            "   \"d\": {\n",
            "      \"results\": [\n",
            "         {\n",
            "            \"__metadata\": {\n",
            "               \"uri\": \"http://dbpedia.org/resource/Tent_of_Miracles_(novel)\"\n",
            "            },\n",
            "            \"http://www.w3.org/2000/01/rdf-schema#label\": \"Tent of Miracles (novel)\",\n",
            "            \"http://dbpedia.org/ontology/wikiPageWikiLink\": {\n",
            "               \"__deferred\": {\n",
            "                  \"uri\": \"http://dbpedia.org/resource/French_New_Wave\"\n",
            "               }\n",
            "            },\n",
            "            \"http://purl.org/dc/terms/subject\": {\n",
            "               \"__deferred\": {\n",
            "                  \"uri\": \"http://dbpedia.org/resource/Category:Modernist_novels\"\n",
            "               }\n",
            "            },\n",
            "            \"http://www.w3.org/1999/02/22-rdf-syntax-ns#type\": {\n",
            "               \"__deferred\": {\n",
            "                  \"uri\": \"http://dbpedia.org/ontology/WrittenWork\"\n",
            "               }\n",
            "            },\n",
            "            \"http://dbpedia.org/property/wikiPageUsesTemplate\": {\n",
            "               \"__deferred\": {\n",
            "                  \"uri\": \"http://dbpedia.org/resource/Template:According_to_whom\"\n",
            "               }\n",
            "            },\n",
            "            \"http://www.w3.org/2000/01/rdf-schema#comment\": \"Tent of Miracles (Portuguese: Tenda dos Milagres) is a Brazilian Modernist novel. It was written by Jorge Amado in 1967 and published the following year. It was later adapted to a 1977 Cinema Novo (Nouvelle Vague) film by director/screenplay writer Nelson Pereira dos Santos.\",\n",
            "            \"http://dbpedia.org/ontology/abstract\": \"La bottega dei miracoli \\u00e8 un romanzo di Jorge Amado pubblicato nel 1960. Come altri romanzi dell&#39;autore (ad esempio Tieta d&#39;Agreste e Teresa Batista) \\u00e8 un testo composito, con un intreccio zigzagante fra analessi e prolessi, con mutamenti di voci narranti ed inserti di materiale eterogeneo.\\u00c8 possibile che l&#39;evento scatenante del racconto (la visita del famoso scienziato) sia stato ispirato dall&#39;esperienza vissuta; in quello stesso 1960, infatti, Jean Paul Sartre e Simone De Beauvoir visitarono il Brasile su invito dello stesso Amado: la visita divenne un evento mediatico, celebrato in numerose manifestazioni istituzionali.\",\n",
            "            \"http://dbpedia.org/property/pubDate\": \"1969\",\n",
            "            \"http://dbpedia.org/property/country\": {\n",
            "               \"__deferred\": {\n",
            "                  \"uri\": \"http://dbpedia.org/resource/Brazil\"\n",
            "               }\n",
            "            },\n",
            "            \"http://www.w3.org/2002/07/owl#sameAs\": {\n",
            "               \"__deferred\": {\n",
            "                  \"uri\": \"http://rdf.freebase.com/ns/m.02xrs4\"\n",
            "               }\n",
            "            },\n",
            "            \"http://dbpedia.org/ontology/wikiPageRevisionID\": \"974212123\",\n",
            "            \"http://dbpedia.org/property/author\": {\n",
            "               \"__deferred\": {\n",
            "                  \"uri\": \"http://dbpedia.org/resource/Jorge_Amado\"\n",
            "               }\n",
            "            },\n",
            "            \"http://dbpedia.org/ontology/author\": {\n",
            "               \"__deferred\": {\n",
            "                  \"uri\": \"http://dbpedia.org/resource/Jorge_Amado\"\n",
            "               }\n",
            "            },\n",
            "            \"http://xmlns.com/foaf/0.1/name\": \"Tenda dos Milagres\",\n",
            "            \"http://dbpedia.org/property/englishPubDate\": \"1971\",\n",
            "            \"http://dbpedia.org/ontology/country\": {\n",
            "               \"__deferred\": {\n",
            "                  \"uri\": \"http://dbpedia.org/resource/Brazil\"\n",
            "               }\n",
            "            },\n",
            "            \"http://dbpedia.org/property/name\": \"Tent of Miracles\",\n",
            "            \"http://purl.org/linguistics/gold/hypernym\": {\n",
            "               \"__deferred\": {\n",
            "                  \"uri\": \"http://dbpedia.org/resource/Novel\"\n",
            "               }\n",
            "            },\n",
            "            \"http://dbpedia.org/property/titleOrig\": \"Tenda dos Milagres\",\n",
            "            \"http://dbpedia.org/ontology/publisher\": {\n",
            "               \"__deferred\": {\n",
            "                  \"uri\": \"http://dbpedia.org/resource/Brazil\"\n",
            "               }\n",
            "            },\n",
            "            \"http://dbpedia.org/ontology/language\": {\n",
            "               \"__deferred\": {\n",
            "                  \"uri\": \"http://dbpedia.org/resource/Portuguese_language\"\n",
            "               }\n",
            "            },\n",
            "            \"http://www.w3.org/ns/prov#wasDerivedFrom\": {\n",
            "               \"__deferred\": {\n",
            "                  \"uri\": \"http://en.wikipedia.org/wiki/Tent_of_Miracles_(novel)?oldid=974212123&ns=0\"\n",
            "               }\n",
            "            },\n",
            "            \"http://dbpedia.org/ontology/wikiPageLength\": \"5253\",\n",
            "            \"http://purl.org/dc/elements/1.1/publisher\": \"Martins, Sao Paulo, Brazil\",\n",
            "            \"http://dbpedia.org/property/language\": {\n",
            "               \"__deferred\": {\n",
            "                  \"uri\": \"http://dbpedia.org/resource/Portuguese_language\"\n",
            "               }\n",
            "            },\n",
            "            \"http://dbpedia.org/ontology/wikiPageID\": \"623351\",\n",
            "            \"http://dbpedia.org/property/publisher\": \"Martins, Sao Paulo, Brazil\",\n",
            "            \"http://dbpedia.org/property/caption\": \"First edition\",\n",
            "            \"http://xmlns.com/foaf/0.1/isPrimaryTopicOf\": {\n",
            "               \"__deferred\": {\n",
            "                  \"uri\": \"http://en.wikipedia.org/wiki/Tent_of_Miracles_(novel)\"\n",
            "               }\n",
            "            }\n",
            "         }\n",
            "      ],\n",
            "      \"__count\": \"1\"\n",
            "   }\n",
            "}\n"
          ],
          "name": "stdout"
        }
      ]
    },
    {
      "cell_type": "markdown",
      "metadata": {
        "id": "threatened-shepherd"
      },
      "source": [
        "## Tarefa 2\n",
        "### Recupere via Python e mostre o autor de Tenda dos Milagres?"
      ],
      "id": "threatened-shepherd"
    },
    {
      "cell_type": "code",
      "metadata": {
        "colab": {
          "base_uri": "https://localhost:8080/"
        },
        "id": "subjective-bachelor",
        "outputId": "12658b6b-ba17-4a6f-d570-f71c42590aea"
      },
      "source": [
        "author = json_tom[\"d\"][\"results\"][0][\"http://dbpedia.org/ontology/author\"][\"__deferred\"][\"uri\"]\n",
        "print(\"Autor de The Tin Drum: \" + author)"
      ],
      "id": "subjective-bachelor",
      "execution_count": 4,
      "outputs": [
        {
          "output_type": "stream",
          "text": [
            "Autor de The Tin Drum: http://dbpedia.org/resource/Jorge_Amado\n"
          ],
          "name": "stdout"
        }
      ]
    },
    {
      "cell_type": "markdown",
      "metadata": {
        "id": "specialized-playback"
      },
      "source": [
        "## Tarefa 3\n",
        "### Quais os termos usados para Aspirina (consulta JSON/MeSH em Python)?"
      ],
      "id": "specialized-playback"
    },
    {
      "cell_type": "code",
      "metadata": {
        "colab": {
          "base_uri": "https://localhost:8080/"
        },
        "id": "about-sacramento",
        "outputId": "7f945913-879f-44a4-c8d8-b5a2d3c386a4"
      },
      "source": [
        "aspirin_url = \"https://id.nlm.nih.gov/mesh/lookup/descriptor?label=Aspirin&match=exact&limit=10\"\n",
        "data = requests.get(aspirin_url)\n",
        "aspirin_json = data.json()\n",
        "aspirin_resource_code_url = aspirin_json[0][\"resource\"]\n",
        "url_bar = str.rindex(aspirin_resource_code_url, \"/\")\n",
        "aspirin_resource_code = aspirin_resource_code_url[url_bar+1:]\n",
        "aspirin_data_url = f\"https://id.nlm.nih.gov/mesh/lookup/details?descriptor={aspirin_resource_code}\"\n",
        "data = requests.get(aspirin_data_url)\n",
        "aspirin_data_json = data.json()\n",
        "print(json.dumps(aspirin_data_json[\"terms\"], indent=3))"
      ],
      "id": "about-sacramento",
      "execution_count": 9,
      "outputs": [
        {
          "output_type": "stream",
          "text": [
            "[\n",
            "   {\n",
            "      \"resource\": \"http://id.nlm.nih.gov/mesh/T003713\",\n",
            "      \"label\": \"Aspirin\",\n",
            "      \"preferred\": true\n",
            "   },\n",
            "   {\n",
            "      \"resource\": \"http://id.nlm.nih.gov/mesh/T003714\",\n",
            "      \"label\": \"2-(Acetyloxy)benzoic Acid\",\n",
            "      \"preferred\": false\n",
            "   },\n",
            "   {\n",
            "      \"resource\": \"http://id.nlm.nih.gov/mesh/T003712\",\n",
            "      \"label\": \"Acetylsalicylic Acid\",\n",
            "      \"preferred\": false\n",
            "   },\n",
            "   {\n",
            "      \"resource\": \"http://id.nlm.nih.gov/mesh/T003721\",\n",
            "      \"label\": \"Acetysal\",\n",
            "      \"preferred\": false\n",
            "   },\n",
            "   {\n",
            "      \"resource\": \"http://id.nlm.nih.gov/mesh/T003722\",\n",
            "      \"label\": \"Acylpyrin\",\n",
            "      \"preferred\": false\n",
            "   },\n",
            "   {\n",
            "      \"resource\": \"http://id.nlm.nih.gov/mesh/T003711\",\n",
            "      \"label\": \"Aloxiprimum\",\n",
            "      \"preferred\": false\n",
            "   },\n",
            "   {\n",
            "      \"resource\": \"http://id.nlm.nih.gov/mesh/T003723\",\n",
            "      \"label\": \"Colfarit\",\n",
            "      \"preferred\": false\n",
            "   },\n",
            "   {\n",
            "      \"resource\": \"http://id.nlm.nih.gov/mesh/T003715\",\n",
            "      \"label\": \"Dispril\",\n",
            "      \"preferred\": false\n",
            "   },\n",
            "   {\n",
            "      \"resource\": \"http://id.nlm.nih.gov/mesh/T003719\",\n",
            "      \"label\": \"Easprin\",\n",
            "      \"preferred\": false\n",
            "   },\n",
            "   {\n",
            "      \"resource\": \"http://id.nlm.nih.gov/mesh/T003724\",\n",
            "      \"label\": \"Ecotrin\",\n",
            "      \"preferred\": false\n",
            "   },\n",
            "   {\n",
            "      \"resource\": \"http://id.nlm.nih.gov/mesh/T003725\",\n",
            "      \"label\": \"Endosprin\",\n",
            "      \"preferred\": false\n",
            "   },\n",
            "   {\n",
            "      \"resource\": \"http://id.nlm.nih.gov/mesh/T003726\",\n",
            "      \"label\": \"Magnecyl\",\n",
            "      \"preferred\": false\n",
            "   },\n",
            "   {\n",
            "      \"resource\": \"http://id.nlm.nih.gov/mesh/T003727\",\n",
            "      \"label\": \"Micristin\",\n",
            "      \"preferred\": false\n",
            "   },\n",
            "   {\n",
            "      \"resource\": \"http://id.nlm.nih.gov/mesh/T003717\",\n",
            "      \"label\": \"Polopirin\",\n",
            "      \"preferred\": false\n",
            "   },\n",
            "   {\n",
            "      \"resource\": \"http://id.nlm.nih.gov/mesh/T003728\",\n",
            "      \"label\": \"Polopiryna\",\n",
            "      \"preferred\": false\n",
            "   },\n",
            "   {\n",
            "      \"resource\": \"http://id.nlm.nih.gov/mesh/T003716\",\n",
            "      \"label\": \"Solprin\",\n",
            "      \"preferred\": false\n",
            "   },\n",
            "   {\n",
            "      \"resource\": \"http://id.nlm.nih.gov/mesh/T003718\",\n",
            "      \"label\": \"Solupsan\",\n",
            "      \"preferred\": false\n",
            "   },\n",
            "   {\n",
            "      \"resource\": \"http://id.nlm.nih.gov/mesh/T003720\",\n",
            "      \"label\": \"Zorprin\",\n",
            "      \"preferred\": false\n",
            "   }\n",
            "]\n"
          ],
          "name": "stdout"
        }
      ]
    },
    {
      "cell_type": "markdown",
      "metadata": {
        "id": "uniform-worst"
      },
      "source": [
        "## Tarefa 4\n",
        "### Escolha algum lugar no OpenStreetMap e elabore a mesma sequência de três chamadas de serviços para o seu conceito."
      ],
      "id": "uniform-worst"
    },
    {
      "cell_type": "code",
      "metadata": {
        "id": "virgin-volunteer"
      },
      "source": [
        ""
      ],
      "id": "virgin-volunteer",
      "execution_count": null,
      "outputs": []
    }
  ]
}